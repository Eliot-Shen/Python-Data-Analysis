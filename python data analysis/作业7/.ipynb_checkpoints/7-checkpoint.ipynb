{
 "cells": [
  {
   "cell_type": "markdown",
   "metadata": {},
   "source": [
    "#  Python数据分析之展示-2"
   ]
  },
  {
   "cell_type": "markdown",
   "metadata": {},
   "source": [
    "**导入**"
   ]
  },
  {
   "cell_type": "code",
   "execution_count": 2,
   "metadata": {},
   "outputs": [],
   "source": [
    "import warnings\n",
    "warnings.filterwarnings(\"ignore\")"
   ]
  },
  {
   "cell_type": "code",
   "execution_count": 1,
   "metadata": {},
   "outputs": [],
   "source": [
    "import numpy as np\n",
    "import pandas as pd\n",
    "import matplotlib.pyplot as plt"
   ]
  },
  {
   "cell_type": "code",
   "execution_count": 3,
   "metadata": {},
   "outputs": [],
   "source": [
    "plt.rcParams[\"font.sans-serif\"] = [\"SimHei\"]\n",
    "plt.rcParams[\"axes.unicode_minus\"] = False #解决中文乱码等问题"
   ]
  },
  {
   "cell_type": "code",
   "execution_count": 5,
   "metadata": {},
   "outputs": [],
   "source": [
    "df = pd.read_excel(r\"C:\\Users\\Lovetianyi\\Desktop\\python\\作业5\\movie_data3.xlsx\",index_col = 0)"
   ]
  },
  {
   "cell_type": "code",
   "execution_count": 6,
   "metadata": {},
   "outputs": [
    {
     "data": {
      "text/html": [
       "<div>\n",
       "<style scoped>\n",
       "    .dataframe tbody tr th:only-of-type {\n",
       "        vertical-align: middle;\n",
       "    }\n",
       "\n",
       "    .dataframe tbody tr th {\n",
       "        vertical-align: top;\n",
       "    }\n",
       "\n",
       "    .dataframe thead th {\n",
       "        text-align: right;\n",
       "    }\n",
       "</style>\n",
       "<table border=\"1\" class=\"dataframe\">\n",
       "  <thead>\n",
       "    <tr style=\"text-align: right;\">\n",
       "      <th></th>\n",
       "      <th>年代</th>\n",
       "      <th>产地</th>\n",
       "      <th>名字</th>\n",
       "      <th>投票人数</th>\n",
       "      <th>类型</th>\n",
       "      <th>上映时间</th>\n",
       "      <th>时长</th>\n",
       "      <th>评分</th>\n",
       "      <th>首映地点</th>\n",
       "      <th>评分等级</th>\n",
       "      <th>热门程度</th>\n",
       "    </tr>\n",
       "  </thead>\n",
       "  <tbody>\n",
       "    <tr>\n",
       "      <th>0</th>\n",
       "      <td>1994</td>\n",
       "      <td>美国</td>\n",
       "      <td>肖申克的救赎</td>\n",
       "      <td>692795</td>\n",
       "      <td>剧情/犯罪</td>\n",
       "      <td>1994-09-10 00:00:00</td>\n",
       "      <td>142</td>\n",
       "      <td>9.6</td>\n",
       "      <td>多伦多电影节</td>\n",
       "      <td>A</td>\n",
       "      <td>A</td>\n",
       "    </tr>\n",
       "    <tr>\n",
       "      <th>1</th>\n",
       "      <td>1957</td>\n",
       "      <td>美国</td>\n",
       "      <td>控方证人</td>\n",
       "      <td>42995</td>\n",
       "      <td>剧情/悬疑/犯罪</td>\n",
       "      <td>1957-12-17 00:00:00</td>\n",
       "      <td>116</td>\n",
       "      <td>9.5</td>\n",
       "      <td>美国</td>\n",
       "      <td>A</td>\n",
       "      <td>A</td>\n",
       "    </tr>\n",
       "    <tr>\n",
       "      <th>2</th>\n",
       "      <td>1997</td>\n",
       "      <td>意大利</td>\n",
       "      <td>美丽人生</td>\n",
       "      <td>327855</td>\n",
       "      <td>剧情/喜剧/爱情</td>\n",
       "      <td>1997-12-20 00:00:00</td>\n",
       "      <td>116</td>\n",
       "      <td>9.5</td>\n",
       "      <td>意大利</td>\n",
       "      <td>A</td>\n",
       "      <td>A</td>\n",
       "    </tr>\n",
       "    <tr>\n",
       "      <th>3</th>\n",
       "      <td>1994</td>\n",
       "      <td>美国</td>\n",
       "      <td>阿甘正传</td>\n",
       "      <td>580897</td>\n",
       "      <td>剧情/爱情</td>\n",
       "      <td>1994-06-23 00:00:00</td>\n",
       "      <td>142</td>\n",
       "      <td>9.4</td>\n",
       "      <td>洛杉矶首映</td>\n",
       "      <td>A</td>\n",
       "      <td>A</td>\n",
       "    </tr>\n",
       "    <tr>\n",
       "      <th>4</th>\n",
       "      <td>1993</td>\n",
       "      <td>中国大陆</td>\n",
       "      <td>霸王别姬</td>\n",
       "      <td>478523</td>\n",
       "      <td>剧情/爱情/同性</td>\n",
       "      <td>1993-01-01 00:00:00</td>\n",
       "      <td>171</td>\n",
       "      <td>9.4</td>\n",
       "      <td>香港</td>\n",
       "      <td>A</td>\n",
       "      <td>A</td>\n",
       "    </tr>\n",
       "  </tbody>\n",
       "</table>\n",
       "</div>"
      ],
      "text/plain": [
       "     年代    产地      名字    投票人数        类型                 上映时间   时长   评分  \\\n",
       "0  1994    美国  肖申克的救赎  692795     剧情/犯罪  1994-09-10 00:00:00  142  9.6   \n",
       "1  1957    美国    控方证人   42995  剧情/悬疑/犯罪  1957-12-17 00:00:00  116  9.5   \n",
       "2  1997   意大利   美丽人生   327855  剧情/喜剧/爱情  1997-12-20 00:00:00  116  9.5   \n",
       "3  1994    美国    阿甘正传  580897     剧情/爱情  1994-06-23 00:00:00  142  9.4   \n",
       "4  1993  中国大陆    霸王别姬  478523  剧情/爱情/同性  1993-01-01 00:00:00  171  9.4   \n",
       "\n",
       "     首映地点 评分等级 热门程度  \n",
       "0  多伦多电影节    A    A  \n",
       "1      美国    A    A  \n",
       "2     意大利    A    A  \n",
       "3   洛杉矶首映    A    A  \n",
       "4      香港    A    A  "
      ]
     },
     "execution_count": 6,
     "metadata": {},
     "output_type": "execute_result"
    }
   ],
   "source": [
    "df[:5]"
   ]
  },
  {
   "cell_type": "markdown",
   "metadata": {},
   "source": [
    "## 双轴图的画法 "
   ]
  },
  {
   "cell_type": "code",
   "execution_count": 13,
   "metadata": {},
   "outputs": [],
   "source": [
    "from scipy.stats import norm #获取正态分布密度函数"
   ]
  },
  {
   "cell_type": "code",
   "execution_count": 15,
   "metadata": {},
   "outputs": [
    {
     "data": {
      "image/png": "[encoded data removed]",
      "text/plain": [
       "<Figure size 720x576 with 2 Axes>"
      ]
     },
     "metadata": {
      "needs_background": "light"
     },
     "output_type": "display_data"
    }
   ],
   "source": [
    "fig = plt.figure(figsize = (10,8))\n",
    "ax1 = fig.add_subplot(111) #确认子图\n",
    "n,bins,patches = ax1.hist(df[\"评分\"],bins = 100, color = 'm') #bins默认是10\n",
    "\n",
    "ax1.set_ylabel(\"电影数量\",fontsize = 15)\n",
    "ax1.set_xlabel(\"评分\",fontsize = 15)\n",
    "ax1.set_title(\"频率分布图\",fontsize = 20)\n",
    "\n",
    "#准备拟合\n",
    "y = norm.pdf(bins,df[\"评分\"].mean(),df[\"评分\"].std()) #bins,mu,sigma\n",
    "ax2 = ax1.twinx() #双轴\n",
    "ax2.plot(bins,y,\"b--\")\n",
    "ax2.set_ylabel(\"概率分布\",fontsize = 15)\n",
    "plt.show()"
   ]
  },
  {
   "cell_type": "markdown",
   "metadata": {},
   "source": [
    "## 5.根据电影时长和电影评分绘制散点图 "
   ]
  },
  {
   "cell_type": "markdown",
   "metadata": {},
   "source": [
    "用两组数据构成多个坐标点，考察坐标点的分布，判断两变量之间是否存在某种关联或总结坐标点的分布模式。散点图将序列显示为一组点。值由点在图表中的位置表示。类别由图表中的不同标记表示。散点图通常用于比较跨类别的聚合数据。"
   ]
  },
  {
   "cell_type": "code",
   "execution_count": 20,
   "metadata": {},
   "outputs": [
    {
     "data": {
      "image/png": "[encoded data removed]",
      "text/plain": [
       "<Figure size 720x432 with 1 Axes>"
      ]
     },
     "metadata": {
      "needs_background": "light"
     },
     "output_type": "display_data"
    }
   ],
   "source": [
    "x = df[\"时长\"][::100]\n",
    "y = df[\"评分\"][::100] #解决数据冗杂的问题\n",
    "\n",
    "plt.figure(figsize = (10,6))\n",
    "plt.scatter(x,y,color = 'c',marker = 'p',label = \"评分\")\n",
    "plt.legend() #图例\n",
    "plt.title(\"电影时长与评分散点图\",fontsize = 20)\n",
    "plt.xlabel(\"时长\",fontsize = 18)\n",
    "plt.ylabel(\"评分\",fontsize = 18)\n",
    "plt.show()"
   ]
  },
  {
   "cell_type": "markdown",
   "metadata": {},
   "source": [
    "**由于我们的数据量过大，所以画出来的图非常冗杂**"
   ]
  },
  {
   "cell_type": "markdown",
   "metadata": {},
   "source": [
    "**可以发现，大部分的电影时长还是集中在100附近，评分大多在7分左右**"
   ]
  },
  {
   "cell_type": "markdown",
   "metadata": {},
   "source": [
    "### **marker属性**"
   ]
  },
  {
   "cell_type": "markdown",
   "metadata": {},
   "source": [
    "设置散点的形状\n",
    "\n",
    "|**marker**|**description**|**描述**|\n",
    "|-|-|-|\n",
    "|\".\"|point|点|\n",
    "|\",\"|pixel|像素|\n",
    "|\"o\"|circle|圈|\n",
    "|\"v\"|triangle_down|倒三角形|\n",
    "|\"^\"|triangle_up|正三角形|\n",
    "|\"<\"|triangle_left|左三角形|\n",
    "|\">\"|triangle_right|右三角形|\n",
    "|\"1\"|tri_down|tri_down|\n",
    "|\"2\"|tri_up|tri_up|\n",
    "|\"3\"|tri_left|tri_left|\n",
    "|\"4\"|tri_right|tri_right|\n",
    "|\"8\"|octagon|八角形|\n",
    "|\"s\"|square|正方形|\n",
    "|\"p\"|pentagon|五角|\n",
    "|\"\\*\"|star|星星|\n",
    "|\"h\"|hexagon1|六角1|\n",
    "|\"H\"|hexagon2|六角2|\n",
    "|\"+\"|plus|加号|\n",
    "|\"x\"|x|x号|\n",
    "|\"D\"|diamond|钻石|\n",
    "|\"d\"|thin_diamon|细钻|\n",
    "|\"\\|\"|vline|v线|\n",
    "|\"\\_\"|hline|H线|"
   ]
  },
  {
   "cell_type": "markdown",
   "metadata": {},
   "source": [
    "## 6.绘制各个地区的评分箱型图"
   ]
  },
  {
   "cell_type": "markdown",
   "metadata": {},
   "source": [
    "箱型图（Box-plot）又称为盒须图，盒式图或箱型图，是一种用作显示一组数据分散情况资料的统计图。因形状如箱子而得名。在各种领域中也经常被使用，常见于品质管理。它主要用于反映原始数据分布的特征，还可以进行多组数据分布特征的比较。箱线图的绘制方法是：先找出一组数据的中位数，两个四分位数，上下边缘线；然后，连接两个四分位数画出箱子；再将上下边缘线与箱子相连接，中位数在箱子中间。\n",
    "\n",
    "![test](375d3e018a4a35cde9d3cb178ce43ce.jpg)"
   ]
  },
  {
   "cell_type": "markdown",
   "metadata": {},
   "source": [
    "**一般计算过程**\n",
    "\n",
    "（ 1 ）计算上四分位数（ Q3 ），中位数，下四分位数（ Q1 ）\n",
    "\n",
    "（ 2 ）计算上四分位数和下四分位数之间的差值，即四分位数差（IQR, interquartile range）Q3-Q1\n",
    "\n",
    "（ 3 ）绘制箱线图的上下范围，上限为上四分位数，下限为下四分位数。在箱子内部中位数的位置绘制横线\n",
    "\n",
    "（ 4 ）大于上四分位数1.5倍四分位数差的值，或者小于下四分位数1.5倍四分位数差的值，划为异常值（outliers）\n",
    "\n",
    "（ 5 ）异常值之外，最靠近上边缘和下边缘的两个值处，画横线，作为箱线图的触须\n",
    "\n",
    "（ 6 ）极端异常值，即超出四分位数差3倍距离的异常值，用实心点表示；较为温和的异常值，即处于1.5倍-3倍四分位数差之间的异常值，用空心点表示\n",
    "\n",
    "（ 7 ）为箱线图添加名称，数轴等"
   ]
  },
  {
   "attachments": {},
   "cell_type": "markdown",
   "metadata": {},
   "source": [
    "**参数详解**\n",
    "\n",
    "```python\n",
    "plt.boxplot(x,notch=None,sym=None,vert=None,\n",
    "    whis=None,positions=None,widths=None,\n",
    "    patch_artist=None,meanline=None,showmeans=None,\n",
    "    showcaps=None,showbox=None,showfliers=None,\n",
    "    boxprops=None,labels=None,flierprops=None,\n",
    "    medianprops=None,meanprops=None,\n",
    "    capprops=None,whiskerprops=None,)\n",
    "```\n",
    "x: 指定要绘制箱线图的数据；\n",
    "\n",
    "notch: 是否是凹口的形式展现箱线图，默认非凹口；\n",
    "\n",
    "sym: 指定异常点的形状，默认为+号显示；\n",
    "\n",
    "vert: 是否需要将箱线图垂直摆放，默认垂直摆放；\n",
    "\n",
    "whis: 指定上下须与上下四分位的距离，默认为为1.5倍的四分位差；\n",
    "\n",
    "positions: 指定箱线图的位置，默认为[0,1,2...]；\n",
    "\n",
    "widths: 指定箱线图的宽度，默认为0.5；\n",
    "\n",
    "patch_artist: 是否填充箱体的颜色；\n",
    "\n",
    "meanline:是否用线的形式表示均值，默认用点来表示；\n",
    "\n",
    "showmeans: 是否显示均值，默认不显示；\n",
    "\n",
    "showcaps: 是否显示箱线图顶端和末端的两条线，默认显示；\n",
    "\n",
    "showfliers: 是否显示异常值，默认显示；\n",
    "\n",
    "boxprops: 设置箱体的属性，如边框色，填充色等；\n",
    "\n",
    "labels: 为箱线图添加标签，类似于图例的作用；\n",
    "\n",
    "filerprops: 设置异常值的属性，如异常点的形状、大小、填充色等；\n",
    "\n",
    "medainprops: 设置中位数的属性，如线的类型、粗细等\n",
    "\n",
    "meanprops: 设置均值的属性，如点的大小，颜色等；\n",
    "\n",
    "capprops: 设置箱线图顶端和末端线条的属性，如颜色、粗细等；\n",
    "\n",
    "whiskerprops: 设置须的属性，如颜色、粗细、线的类型等"
   ]
  },
  {
   "cell_type": "markdown",
   "metadata": {},
   "source": [
    "### 美国电影评分的箱线图 "
   ]
  },
  {
   "cell_type": "code",
   "execution_count": 26,
   "metadata": {},
   "outputs": [
    {
     "data": {
      "image/png": "[encoded data removed]",
      "text/plain": [
       "<Figure size 720x432 with 1 Axes>"
      ]
     },
     "metadata": {
      "needs_background": "light"
     },
     "output_type": "display_data"
    }
   ],
   "source": [
    "data = df[df.产地 == \"美国\"][\"评分\"]\n",
    "\n",
    "plt.figure(figsize = (10,6))\n",
    "plt.boxplot(data,whis = 2,flierprops = {\"marker\":'o',\"markerfacecolor\":\"r\",\"color\":'k'})\n",
    "plt.title(\"美国电影评分\",fontsize = 20)\n",
    "plt.show()"
   ]
  },
  {
   "cell_type": "code",
   "execution_count": 21,
   "metadata": {},
   "outputs": [],
   "source": []
  },
  {
   "cell_type": "code",
   "execution_count": null,
   "metadata": {},
   "outputs": [],
   "source": []
  },
  {
   "cell_type": "code",
   "execution_count": null,
   "metadata": {},
   "outputs": [],
   "source": []
  },
  {
   "cell_type": "code",
   "execution_count": null,
   "metadata": {},
   "outputs": [],
   "source": []
  },
  {
   "cell_type": "code",
   "execution_count": null,
   "metadata": {},
   "outputs": [],
   "source": []
  },
  {
   "cell_type": "code",
   "execution_count": null,
   "metadata": {},
   "outputs": [],
   "source": []
  },
  {
   "cell_type": "code",
   "execution_count": null,
   "metadata": {},
   "outputs": [],
   "source": []
  },
  {
   "cell_type": "code",
   "execution_count": null,
   "metadata": {},
   "outputs": [],
   "source": []
  },
  {
   "cell_type": "code",
   "execution_count": null,
   "metadata": {},
   "outputs": [],
   "source": []
  },
  {
   "cell_type": "code",
   "execution_count": null,
   "metadata": {},
   "outputs": [],
   "source": []
  },
  {
   "cell_type": "code",
   "execution_count": null,
   "metadata": {},
   "outputs": [],
   "source": []
  },
  {
   "cell_type": "code",
   "execution_count": null,
   "metadata": {},
   "outputs": [],
   "source": []
  },
  {
   "cell_type": "code",
   "execution_count": null,
   "metadata": {},
   "outputs": [],
   "source": []
  },
  {
   "cell_type": "code",
   "execution_count": null,
   "metadata": {},
   "outputs": [],
   "source": []
  },
  {
   "cell_type": "code",
   "execution_count": null,
   "metadata": {},
   "outputs": [],
   "source": []
  },
  {
   "cell_type": "code",
   "execution_count": null,
   "metadata": {},
   "outputs": [],
   "source": []
  }
 ],
 "metadata": {
  "kernelspec": {
   "display_name": "Python 3",
   "language": "python",
   "name": "python3"
  },
  "language_info": {
   "codemirror_mode": {
    "name": "ipython",
    "version": 3
   },
   "file_extension": ".py",
   "mimetype": "text/x-python",
   "name": "python",
   "nbconvert_exporter": "python",
   "pygments_lexer": "ipython3",
   "version": "3.8.3"
  }
 },
 "nbformat": 4,
 "nbformat_minor": 4
}
