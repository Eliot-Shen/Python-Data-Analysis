{
 "cells": [
  {
   "cell_type": "markdown",
   "metadata": {},
   "source": [
    "# 第四次课作业"
   ]
  },
  {
   "cell_type": "code",
   "execution_count": 1,
   "metadata": {
    "tags": []
   },
   "outputs": [],
   "source": [
    "import pandas as pd\n",
    "import numpy as np"
   ]
  },
  {
   "cell_type": "markdown",
   "metadata": {},
   "source": [
    "（1）读取上次作业保存的数据，酒店数据1.xlsx"
   ]
  },
  {
   "cell_type": "code",
   "execution_count": 8,
   "metadata": {
    "tags": []
   },
   "outputs": [],
   "source": [
    "df = pd.read_excel(\"酒店数据1.xlsx\",index_col = 0)"
   ]
  },
  {
   "cell_type": "markdown",
   "metadata": {},
   "source": [
    "（2）查看“评分”的格式，并分别进行升序和降序排序"
   ]
  },
  {
   "cell_type": "code",
   "execution_count": 9,
   "metadata": {
    "tags": []
   },
   "outputs": [
    {
     "data": {
      "text/html": [
       "<div>\n",
       "<style scoped>\n",
       "    .dataframe tbody tr th:only-of-type {\n",
       "        vertical-align: middle;\n",
       "    }\n",
       "\n",
       "    .dataframe tbody tr th {\n",
       "        vertical-align: top;\n",
       "    }\n",
       "\n",
       "    .dataframe thead th {\n",
       "        text-align: right;\n",
       "    }\n",
       "</style>\n",
       "<table border=\"1\" class=\"dataframe\">\n",
       "  <thead>\n",
       "    <tr style=\"text-align: right;\">\n",
       "      <th></th>\n",
       "      <th>名字</th>\n",
       "      <th>类型</th>\n",
       "      <th>城市</th>\n",
       "      <th>地区</th>\n",
       "      <th>地点</th>\n",
       "      <th>评分</th>\n",
       "      <th>评分人数</th>\n",
       "      <th>价格</th>\n",
       "    </tr>\n",
       "  </thead>\n",
       "  <tbody>\n",
       "    <tr>\n",
       "      <th>384</th>\n",
       "      <td>香港中 港酒店(家庭旅馆)(HK-China Hotel)</td>\n",
       "      <td>地铁周边</td>\n",
       "      <td>香港</td>\n",
       "      <td>油尖旺</td>\n",
       "      <td>碧街33-39号永华大厦1楼（油麻地地铁站A1出口直走50米）</td>\n",
       "      <td>1.5</td>\n",
       "      <td>7</td>\n",
       "      <td>429</td>\n",
       "    </tr>\n",
       "    <tr>\n",
       "      <th>281</th>\n",
       "      <td>巴黎旅馆(Paris Guest House (D2, 10/F))</td>\n",
       "      <td>其他类型</td>\n",
       "      <td>香港</td>\n",
       "      <td>其他地区</td>\n",
       "      <td>Flat D2, 10/F, Block D, Chungking Mansion, 40 ...</td>\n",
       "      <td>2.0</td>\n",
       "      <td>5</td>\n",
       "      <td>67</td>\n",
       "    </tr>\n",
       "    <tr>\n",
       "      <th>279</th>\n",
       "      <td>香港经济型酒店  (家庭旅馆)(Hong Kong Budget Hostel)</td>\n",
       "      <td>地铁周边</td>\n",
       "      <td>香港</td>\n",
       "      <td>油尖旺</td>\n",
       "      <td>弥敦道36-44号重庆大厦10字楼D,E座D8&amp; E2室</td>\n",
       "      <td>2.0</td>\n",
       "      <td>29</td>\n",
       "      <td>67</td>\n",
       "    </tr>\n",
       "    <tr>\n",
       "      <th>359</th>\n",
       "      <td>香港港龙酒店(Comfort Lodge Hong Kong)</td>\n",
       "      <td>地铁周边</td>\n",
       "      <td>香港</td>\n",
       "      <td>油尖旺</td>\n",
       "      <td>香港九龙佐敦德兴街7-8号（礼苑，接待处位于A座2楼）</td>\n",
       "      <td>2.2</td>\n",
       "      <td>18</td>\n",
       "      <td>492</td>\n",
       "    </tr>\n",
       "    <tr>\n",
       "      <th>331</th>\n",
       "      <td>香港欣欣宾馆(家庭旅馆)(YAN YAN GUEST HOUSE)</td>\n",
       "      <td>地铁周边</td>\n",
       "      <td>香港</td>\n",
       "      <td>油尖旺</td>\n",
       "      <td>弥敦道40号重庆大厦E座8字楼E1室</td>\n",
       "      <td>2.3</td>\n",
       "      <td>6</td>\n",
       "      <td>977</td>\n",
       "    </tr>\n",
       "    <tr>\n",
       "      <th>...</th>\n",
       "      <td>...</td>\n",
       "      <td>...</td>\n",
       "      <td>...</td>\n",
       "      <td>...</td>\n",
       "      <td>...</td>\n",
       "      <td>...</td>\n",
       "      <td>...</td>\n",
       "      <td>...</td>\n",
       "    </tr>\n",
       "    <tr>\n",
       "      <th>82</th>\n",
       "      <td>香港半岛酒店(The Peninsula Hong Kong)</td>\n",
       "      <td>海滨风光</td>\n",
       "      <td>香港</td>\n",
       "      <td>油尖旺</td>\n",
       "      <td>尖沙咀梳士巴利道</td>\n",
       "      <td>4.8</td>\n",
       "      <td>3693</td>\n",
       "      <td>3862</td>\n",
       "    </tr>\n",
       "    <tr>\n",
       "      <th>14</th>\n",
       "      <td>迪士尼探索家度假酒店(Disney Explorers Lodge)</td>\n",
       "      <td>海滨风光</td>\n",
       "      <td>香港</td>\n",
       "      <td>离岛</td>\n",
       "      <td>迪士尼乐园度假区</td>\n",
       "      <td>4.8</td>\n",
       "      <td>4794</td>\n",
       "      <td>1662</td>\n",
       "    </tr>\n",
       "    <tr>\n",
       "      <th>116</th>\n",
       "      <td>香港四季酒店(Four Seasons Hotel Hong Kong)</td>\n",
       "      <td>海滨风光</td>\n",
       "      <td>香港</td>\n",
       "      <td>中西区</td>\n",
       "      <td>中环 金融街8号</td>\n",
       "      <td>4.8</td>\n",
       "      <td>3461</td>\n",
       "      <td>12926</td>\n",
       "    </tr>\n",
       "    <tr>\n",
       "      <th>210</th>\n",
       "      <td>香港李女士宾馆(家庭旅馆)(MS LI GUEST HOUSE)</td>\n",
       "      <td>地铁周边</td>\n",
       "      <td>香港</td>\n",
       "      <td>油尖旺</td>\n",
       "      <td>弥敦道58号美丽都大厦E座5字楼E1室</td>\n",
       "      <td>4.9</td>\n",
       "      <td>7</td>\n",
       "      <td>351</td>\n",
       "    </tr>\n",
       "    <tr>\n",
       "      <th>332</th>\n",
       "      <td>香港新金冠宾馆(New Golden Crown Guest House)</td>\n",
       "      <td>客栈</td>\n",
       "      <td>香港</td>\n",
       "      <td>油尖旺</td>\n",
       "      <td>尖沙咀弥敦道68号金冠大厦13楼C室</td>\n",
       "      <td>4.9</td>\n",
       "      <td>10</td>\n",
       "      <td>395</td>\n",
       "    </tr>\n",
       "  </tbody>\n",
       "</table>\n",
       "<p>396 rows × 8 columns</p>\n",
       "</div>"
      ],
      "text/plain": [
       "                                           名字    类型  城市    地区  \\\n",
       "384             香港中 港酒店(家庭旅馆)(HK-China Hotel)  地铁周边  香港   油尖旺   \n",
       "281        巴黎旅馆(Paris Guest House (D2, 10/F))  其他类型  香港  其他地区   \n",
       "279  香港经济型酒店  (家庭旅馆)(Hong Kong Budget Hostel)  地铁周边  香港   油尖旺   \n",
       "359           香港港龙酒店(Comfort Lodge Hong Kong)  地铁周边  香港   油尖旺   \n",
       "331         香港欣欣宾馆(家庭旅馆)(YAN YAN GUEST HOUSE)  地铁周边  香港   油尖旺   \n",
       "..                                        ...   ...  ..   ...   \n",
       "82            香港半岛酒店(The Peninsula Hong Kong)  海滨风光  香港   油尖旺   \n",
       "14         迪士尼探索家度假酒店(Disney Explorers Lodge)  海滨风光  香港    离岛   \n",
       "116      香港四季酒店(Four Seasons Hotel Hong Kong)  海滨风光  香港   中西区   \n",
       "210          香港李女士宾馆(家庭旅馆)(MS LI GUEST HOUSE)  地铁周边  香港   油尖旺   \n",
       "332     香港新金冠宾馆(New Golden Crown Guest House)    客栈  香港   油尖旺   \n",
       "\n",
       "                                                    地点   评分  评分人数     价格  \n",
       "384                    碧街33-39号永华大厦1楼（油麻地地铁站A1出口直走50米）  1.5     7    429  \n",
       "281  Flat D2, 10/F, Block D, Chungking Mansion, 40 ...  2.0     5     67  \n",
       "279                       弥敦道36-44号重庆大厦10字楼D,E座D8& E2室  2.0    29     67  \n",
       "359                        香港九龙佐敦德兴街7-8号（礼苑，接待处位于A座2楼）  2.2    18    492  \n",
       "331                                 弥敦道40号重庆大厦E座8字楼E1室  2.3     6    977  \n",
       "..                                                 ...  ...   ...    ...  \n",
       "82                                            尖沙咀梳士巴利道  4.8  3693   3862  \n",
       "14                                            迪士尼乐园度假区  4.8  4794   1662  \n",
       "116                                           中环 金融街8号  4.8  3461  12926  \n",
       "210                                弥敦道58号美丽都大厦E座5字楼E1室  4.9     7    351  \n",
       "332                                 尖沙咀弥敦道68号金冠大厦13楼C室  4.9    10    395  \n",
       "\n",
       "[396 rows x 8 columns]"
      ]
     },
     "execution_count": 9,
     "metadata": {},
     "output_type": "execute_result"
    }
   ],
   "source": [
    "df.sort_values(by = \"评分\")"
   ]
  },
  {
   "cell_type": "code",
   "execution_count": 10,
   "metadata": {
    "tags": []
   },
   "outputs": [
    {
     "data": {
      "text/html": [
       "<div>\n",
       "<style scoped>\n",
       "    .dataframe tbody tr th:only-of-type {\n",
       "        vertical-align: middle;\n",
       "    }\n",
       "\n",
       "    .dataframe tbody tr th {\n",
       "        vertical-align: top;\n",
       "    }\n",
       "\n",
       "    .dataframe thead th {\n",
       "        text-align: right;\n",
       "    }\n",
       "</style>\n",
       "<table border=\"1\" class=\"dataframe\">\n",
       "  <thead>\n",
       "    <tr style=\"text-align: right;\">\n",
       "      <th></th>\n",
       "      <th>名字</th>\n",
       "      <th>类型</th>\n",
       "      <th>城市</th>\n",
       "      <th>地区</th>\n",
       "      <th>地点</th>\n",
       "      <th>评分</th>\n",
       "      <th>评分人数</th>\n",
       "      <th>价格</th>\n",
       "    </tr>\n",
       "  </thead>\n",
       "  <tbody>\n",
       "    <tr>\n",
       "      <th>210</th>\n",
       "      <td>香港李女士宾馆(家庭旅馆)(MS LI GUEST HOUSE)</td>\n",
       "      <td>地铁周边</td>\n",
       "      <td>香港</td>\n",
       "      <td>油尖旺</td>\n",
       "      <td>弥敦道58号美丽都大厦E座5字楼E1室</td>\n",
       "      <td>4.9</td>\n",
       "      <td>7</td>\n",
       "      <td>351</td>\n",
       "    </tr>\n",
       "    <tr>\n",
       "      <th>332</th>\n",
       "      <td>香港新金冠宾馆(New Golden Crown Guest House)</td>\n",
       "      <td>客栈</td>\n",
       "      <td>香港</td>\n",
       "      <td>油尖旺</td>\n",
       "      <td>尖沙咀弥敦道68号金冠大厦13楼C室</td>\n",
       "      <td>4.9</td>\n",
       "      <td>10</td>\n",
       "      <td>395</td>\n",
       "    </tr>\n",
       "    <tr>\n",
       "      <th>198</th>\n",
       "      <td>香港鸣人宾馆(Naruto Inn)</td>\n",
       "      <td>地铁周边</td>\n",
       "      <td>香港</td>\n",
       "      <td>油尖旺</td>\n",
       "      <td>尖沙咀弥敦道83-97号华源大厦10F B4室</td>\n",
       "      <td>4.8</td>\n",
       "      <td>921</td>\n",
       "      <td>190</td>\n",
       "    </tr>\n",
       "    <tr>\n",
       "      <th>14</th>\n",
       "      <td>迪士尼探索家度假酒店(Disney Explorers Lodge)</td>\n",
       "      <td>海滨风光</td>\n",
       "      <td>香港</td>\n",
       "      <td>离岛</td>\n",
       "      <td>迪士尼乐园度假区</td>\n",
       "      <td>4.8</td>\n",
       "      <td>4794</td>\n",
       "      <td>1662</td>\n",
       "    </tr>\n",
       "    <tr>\n",
       "      <th>116</th>\n",
       "      <td>香港四季酒店(Four Seasons Hotel Hong Kong)</td>\n",
       "      <td>海滨风光</td>\n",
       "      <td>香港</td>\n",
       "      <td>中西区</td>\n",
       "      <td>中环 金融街8号</td>\n",
       "      <td>4.8</td>\n",
       "      <td>3461</td>\n",
       "      <td>12926</td>\n",
       "    </tr>\n",
       "    <tr>\n",
       "      <th>...</th>\n",
       "      <td>...</td>\n",
       "      <td>...</td>\n",
       "      <td>...</td>\n",
       "      <td>...</td>\n",
       "      <td>...</td>\n",
       "      <td>...</td>\n",
       "      <td>...</td>\n",
       "      <td>...</td>\n",
       "    </tr>\n",
       "    <tr>\n",
       "      <th>352</th>\n",
       "      <td>香港京华宾馆(佐敦)</td>\n",
       "      <td>地铁周边</td>\n",
       "      <td>香港</td>\n",
       "      <td>其他地区</td>\n",
       "      <td>九龙佐敦南京街19-21号3楼2/F</td>\n",
       "      <td>2.3</td>\n",
       "      <td>40</td>\n",
       "      <td>328</td>\n",
       "    </tr>\n",
       "    <tr>\n",
       "      <th>359</th>\n",
       "      <td>香港港龙酒店(Comfort Lodge Hong Kong)</td>\n",
       "      <td>地铁周边</td>\n",
       "      <td>香港</td>\n",
       "      <td>油尖旺</td>\n",
       "      <td>香港九龙佐敦德兴街7-8号（礼苑，接待处位于A座2楼）</td>\n",
       "      <td>2.2</td>\n",
       "      <td>18</td>\n",
       "      <td>492</td>\n",
       "    </tr>\n",
       "    <tr>\n",
       "      <th>279</th>\n",
       "      <td>香港经济型酒店  (家庭旅馆)(Hong Kong Budget Hostel)</td>\n",
       "      <td>地铁周边</td>\n",
       "      <td>香港</td>\n",
       "      <td>油尖旺</td>\n",
       "      <td>弥敦道36-44号重庆大厦10字楼D,E座D8&amp; E2室</td>\n",
       "      <td>2.0</td>\n",
       "      <td>29</td>\n",
       "      <td>67</td>\n",
       "    </tr>\n",
       "    <tr>\n",
       "      <th>281</th>\n",
       "      <td>巴黎旅馆(Paris Guest House (D2, 10/F))</td>\n",
       "      <td>其他类型</td>\n",
       "      <td>香港</td>\n",
       "      <td>其他地区</td>\n",
       "      <td>Flat D2, 10/F, Block D, Chungking Mansion, 40 ...</td>\n",
       "      <td>2.0</td>\n",
       "      <td>5</td>\n",
       "      <td>67</td>\n",
       "    </tr>\n",
       "    <tr>\n",
       "      <th>384</th>\n",
       "      <td>香港中 港酒店(家庭旅馆)(HK-China Hotel)</td>\n",
       "      <td>地铁周边</td>\n",
       "      <td>香港</td>\n",
       "      <td>油尖旺</td>\n",
       "      <td>碧街33-39号永华大厦1楼（油麻地地铁站A1出口直走50米）</td>\n",
       "      <td>1.5</td>\n",
       "      <td>7</td>\n",
       "      <td>429</td>\n",
       "    </tr>\n",
       "  </tbody>\n",
       "</table>\n",
       "<p>396 rows × 8 columns</p>\n",
       "</div>"
      ],
      "text/plain": [
       "                                           名字    类型  城市    地区  \\\n",
       "210          香港李女士宾馆(家庭旅馆)(MS LI GUEST HOUSE)  地铁周边  香港   油尖旺   \n",
       "332     香港新金冠宾馆(New Golden Crown Guest House)    客栈  香港   油尖旺   \n",
       "198                        香港鸣人宾馆(Naruto Inn)  地铁周边  香港   油尖旺   \n",
       "14         迪士尼探索家度假酒店(Disney Explorers Lodge)  海滨风光  香港    离岛   \n",
       "116      香港四季酒店(Four Seasons Hotel Hong Kong)  海滨风光  香港   中西区   \n",
       "..                                        ...   ...  ..   ...   \n",
       "352                                香港京华宾馆(佐敦)  地铁周边  香港  其他地区   \n",
       "359           香港港龙酒店(Comfort Lodge Hong Kong)  地铁周边  香港   油尖旺   \n",
       "279  香港经济型酒店  (家庭旅馆)(Hong Kong Budget Hostel)  地铁周边  香港   油尖旺   \n",
       "281        巴黎旅馆(Paris Guest House (D2, 10/F))  其他类型  香港  其他地区   \n",
       "384             香港中 港酒店(家庭旅馆)(HK-China Hotel)  地铁周边  香港   油尖旺   \n",
       "\n",
       "                                                    地点   评分  评分人数     价格  \n",
       "210                                弥敦道58号美丽都大厦E座5字楼E1室  4.9     7    351  \n",
       "332                                 尖沙咀弥敦道68号金冠大厦13楼C室  4.9    10    395  \n",
       "198                            尖沙咀弥敦道83-97号华源大厦10F B4室  4.8   921    190  \n",
       "14                                            迪士尼乐园度假区  4.8  4794   1662  \n",
       "116                                           中环 金融街8号  4.8  3461  12926  \n",
       "..                                                 ...  ...   ...    ...  \n",
       "352                                 九龙佐敦南京街19-21号3楼2/F  2.3    40    328  \n",
       "359                        香港九龙佐敦德兴街7-8号（礼苑，接待处位于A座2楼）  2.2    18    492  \n",
       "279                       弥敦道36-44号重庆大厦10字楼D,E座D8& E2室  2.0    29     67  \n",
       "281  Flat D2, 10/F, Block D, Chungking Mansion, 40 ...  2.0     5     67  \n",
       "384                    碧街33-39号永华大厦1楼（油麻地地铁站A1出口直走50米）  1.5     7    429  \n",
       "\n",
       "[396 rows x 8 columns]"
      ]
     },
     "execution_count": 10,
     "metadata": {},
     "output_type": "execute_result"
    }
   ],
   "source": [
    "df.sort_values(by = \"评分\",ascending = False)"
   ]
  },
  {
   "cell_type": "markdown",
   "metadata": {},
   "source": [
    "（3）对酒店按照价格进行排名，计算“油尖旺”地区的均价。"
   ]
  },
  {
   "cell_type": "code",
   "execution_count": 15,
   "metadata": {
    "tags": []
   },
   "outputs": [
    {
     "data": {
      "text/plain": [
       "544.3621621621621"
      ]
     },
     "execution_count": 15,
     "metadata": {},
     "output_type": "execute_result"
    }
   ],
   "source": [
    "df.sort_values(by = \"价格\")\n",
    "df[df.地区 == '油尖旺']['价格'].mean()"
   ]
  },
  {
   "cell_type": "markdown",
   "metadata": {},
   "source": [
    "（4）对酒店数据进行描述性统计，并求所有价格的均值方差，最大最小值，中值。"
   ]
  },
  {
   "cell_type": "code",
   "execution_count": 17,
   "metadata": {
    "tags": []
   },
   "outputs": [
    {
     "data": {
      "text/html": [
       "<div>\n",
       "<style scoped>\n",
       "    .dataframe tbody tr th:only-of-type {\n",
       "        vertical-align: middle;\n",
       "    }\n",
       "\n",
       "    .dataframe tbody tr th {\n",
       "        vertical-align: top;\n",
       "    }\n",
       "\n",
       "    .dataframe thead th {\n",
       "        text-align: right;\n",
       "    }\n",
       "</style>\n",
       "<table border=\"1\" class=\"dataframe\">\n",
       "  <thead>\n",
       "    <tr style=\"text-align: right;\">\n",
       "      <th></th>\n",
       "      <th>评分</th>\n",
       "      <th>评分人数</th>\n",
       "      <th>价格</th>\n",
       "    </tr>\n",
       "  </thead>\n",
       "  <tbody>\n",
       "    <tr>\n",
       "      <th>count</th>\n",
       "      <td>396.000000</td>\n",
       "      <td>396.000000</td>\n",
       "      <td>396.000000</td>\n",
       "    </tr>\n",
       "    <tr>\n",
       "      <th>mean</th>\n",
       "      <td>4.285536</td>\n",
       "      <td>2473.818182</td>\n",
       "      <td>682.315657</td>\n",
       "    </tr>\n",
       "    <tr>\n",
       "      <th>std</th>\n",
       "      <td>0.484353</td>\n",
       "      <td>4508.745613</td>\n",
       "      <td>907.334845</td>\n",
       "    </tr>\n",
       "    <tr>\n",
       "      <th>min</th>\n",
       "      <td>1.500000</td>\n",
       "      <td>1.000000</td>\n",
       "      <td>67.000000</td>\n",
       "    </tr>\n",
       "    <tr>\n",
       "      <th>25%</th>\n",
       "      <td>4.200000</td>\n",
       "      <td>95.500000</td>\n",
       "      <td>246.750000</td>\n",
       "    </tr>\n",
       "    <tr>\n",
       "      <th>50%</th>\n",
       "      <td>4.400000</td>\n",
       "      <td>866.500000</td>\n",
       "      <td>416.500000</td>\n",
       "    </tr>\n",
       "    <tr>\n",
       "      <th>75%</th>\n",
       "      <td>4.600000</td>\n",
       "      <td>3247.000000</td>\n",
       "      <td>766.000000</td>\n",
       "    </tr>\n",
       "    <tr>\n",
       "      <th>max</th>\n",
       "      <td>4.900000</td>\n",
       "      <td>45463.000000</td>\n",
       "      <td>12926.000000</td>\n",
       "    </tr>\n",
       "  </tbody>\n",
       "</table>\n",
       "</div>"
      ],
      "text/plain": [
       "               评分          评分人数            价格\n",
       "count  396.000000    396.000000    396.000000\n",
       "mean     4.285536   2473.818182    682.315657\n",
       "std      0.484353   4508.745613    907.334845\n",
       "min      1.500000      1.000000     67.000000\n",
       "25%      4.200000     95.500000    246.750000\n",
       "50%      4.400000    866.500000    416.500000\n",
       "75%      4.600000   3247.000000    766.000000\n",
       "max      4.900000  45463.000000  12926.000000"
      ]
     },
     "execution_count": 17,
     "metadata": {},
     "output_type": "execute_result"
    }
   ],
   "source": [
    "df.describe()"
   ]
  },
  {
   "cell_type": "markdown",
   "metadata": {},
   "source": [
    "（5）计算评分和价格之间的的相关系数，协方差"
   ]
  },
  {
   "cell_type": "code",
   "execution_count": 18,
   "metadata": {
    "tags": []
   },
   "outputs": [
    {
     "data": {
      "text/html": [
       "<div>\n",
       "<style scoped>\n",
       "    .dataframe tbody tr th:only-of-type {\n",
       "        vertical-align: middle;\n",
       "    }\n",
       "\n",
       "    .dataframe tbody tr th {\n",
       "        vertical-align: top;\n",
       "    }\n",
       "\n",
       "    .dataframe thead th {\n",
       "        text-align: right;\n",
       "    }\n",
       "</style>\n",
       "<table border=\"1\" class=\"dataframe\">\n",
       "  <thead>\n",
       "    <tr style=\"text-align: right;\">\n",
       "      <th></th>\n",
       "      <th>价格</th>\n",
       "      <th>评分</th>\n",
       "    </tr>\n",
       "  </thead>\n",
       "  <tbody>\n",
       "    <tr>\n",
       "      <th>价格</th>\n",
       "      <td>1.000000</td>\n",
       "      <td>0.288901</td>\n",
       "    </tr>\n",
       "    <tr>\n",
       "      <th>评分</th>\n",
       "      <td>0.288901</td>\n",
       "      <td>1.000000</td>\n",
       "    </tr>\n",
       "  </tbody>\n",
       "</table>\n",
       "</div>"
      ],
      "text/plain": [
       "          价格        评分\n",
       "价格  1.000000  0.288901\n",
       "评分  0.288901  1.000000"
      ]
     },
     "execution_count": 18,
     "metadata": {},
     "output_type": "execute_result"
    }
   ],
   "source": [
    "df[[\"价格\", \"评分\"]].corr()"
   ]
  },
  {
   "cell_type": "code",
   "execution_count": 19,
   "metadata": {
    "tags": []
   },
   "outputs": [
    {
     "data": {
      "text/html": [
       "<div>\n",
       "<style scoped>\n",
       "    .dataframe tbody tr th:only-of-type {\n",
       "        vertical-align: middle;\n",
       "    }\n",
       "\n",
       "    .dataframe tbody tr th {\n",
       "        vertical-align: top;\n",
       "    }\n",
       "\n",
       "    .dataframe thead th {\n",
       "        text-align: right;\n",
       "    }\n",
       "</style>\n",
       "<table border=\"1\" class=\"dataframe\">\n",
       "  <thead>\n",
       "    <tr style=\"text-align: right;\">\n",
       "      <th></th>\n",
       "      <th>价格</th>\n",
       "      <th>评分</th>\n",
       "    </tr>\n",
       "  </thead>\n",
       "  <tbody>\n",
       "    <tr>\n",
       "      <th>价格</th>\n",
       "      <td>823256.520362</td>\n",
       "      <td>126.963415</td>\n",
       "    </tr>\n",
       "    <tr>\n",
       "      <th>评分</th>\n",
       "      <td>126.963415</td>\n",
       "      <td>0.234598</td>\n",
       "    </tr>\n",
       "  </tbody>\n",
       "</table>\n",
       "</div>"
      ],
      "text/plain": [
       "               价格          评分\n",
       "价格  823256.520362  126.963415\n",
       "评分     126.963415    0.234598"
      ]
     },
     "execution_count": 19,
     "metadata": {},
     "output_type": "execute_result"
    }
   ],
   "source": [
    "df[[\"价格\", \"评分\"]].cov()"
   ]
  },
  {
   "cell_type": "markdown",
   "metadata": {},
   "source": [
    "（6）按照评分降序排序，评分相同时按价格升序排序。"
   ]
  },
  {
   "cell_type": "code",
   "execution_count": 22,
   "metadata": {
    "tags": []
   },
   "outputs": [
    {
     "data": {
      "text/html": [
       "<div>\n",
       "<style scoped>\n",
       "    .dataframe tbody tr th:only-of-type {\n",
       "        vertical-align: middle;\n",
       "    }\n",
       "\n",
       "    .dataframe tbody tr th {\n",
       "        vertical-align: top;\n",
       "    }\n",
       "\n",
       "    .dataframe thead th {\n",
       "        text-align: right;\n",
       "    }\n",
       "</style>\n",
       "<table border=\"1\" class=\"dataframe\">\n",
       "  <thead>\n",
       "    <tr style=\"text-align: right;\">\n",
       "      <th></th>\n",
       "      <th>名字</th>\n",
       "      <th>类型</th>\n",
       "      <th>城市</th>\n",
       "      <th>地区</th>\n",
       "      <th>地点</th>\n",
       "      <th>评分</th>\n",
       "      <th>评分人数</th>\n",
       "      <th>价格</th>\n",
       "    </tr>\n",
       "  </thead>\n",
       "  <tbody>\n",
       "    <tr>\n",
       "      <th>210</th>\n",
       "      <td>香港李女士宾馆(家庭旅馆)(MS LI GUEST HOUSE)</td>\n",
       "      <td>地铁周边</td>\n",
       "      <td>香港</td>\n",
       "      <td>油尖旺</td>\n",
       "      <td>弥敦道58号美丽都大厦E座5字楼E1室</td>\n",
       "      <td>4.9</td>\n",
       "      <td>7</td>\n",
       "      <td>351</td>\n",
       "    </tr>\n",
       "    <tr>\n",
       "      <th>332</th>\n",
       "      <td>香港新金冠宾馆(New Golden Crown Guest House)</td>\n",
       "      <td>客栈</td>\n",
       "      <td>香港</td>\n",
       "      <td>油尖旺</td>\n",
       "      <td>尖沙咀弥敦道68号金冠大厦13楼C室</td>\n",
       "      <td>4.9</td>\n",
       "      <td>10</td>\n",
       "      <td>395</td>\n",
       "    </tr>\n",
       "    <tr>\n",
       "      <th>316</th>\n",
       "      <td>香港尊贵旅馆(Hong Kong Premium Guest House)</td>\n",
       "      <td>其他类型</td>\n",
       "      <td>香港</td>\n",
       "      <td>油尖旺</td>\n",
       "      <td>尖沙咀弥敦道56-58号美丽都大厦16字楼B2,A5室（前台入住办理设在16字楼A2室）</td>\n",
       "      <td>4.8</td>\n",
       "      <td>19</td>\n",
       "      <td>166</td>\n",
       "    </tr>\n",
       "    <tr>\n",
       "      <th>198</th>\n",
       "      <td>香港鸣人宾馆(Naruto Inn)</td>\n",
       "      <td>地铁周边</td>\n",
       "      <td>香港</td>\n",
       "      <td>油尖旺</td>\n",
       "      <td>尖沙咀弥敦道83-97号华源大厦10F B4室</td>\n",
       "      <td>4.8</td>\n",
       "      <td>921</td>\n",
       "      <td>190</td>\n",
       "    </tr>\n",
       "    <tr>\n",
       "      <th>74</th>\n",
       "      <td>香港和平客栈(HK Peaceful Guesthouse)</td>\n",
       "      <td>民宿</td>\n",
       "      <td>香港</td>\n",
       "      <td>其他地区</td>\n",
       "      <td>尖沙咀弥敦道58号美丽都大厦13楼B1室于13楼C2室登记入住</td>\n",
       "      <td>4.8</td>\n",
       "      <td>511</td>\n",
       "      <td>264</td>\n",
       "    </tr>\n",
       "    <tr>\n",
       "      <th>...</th>\n",
       "      <td>...</td>\n",
       "      <td>...</td>\n",
       "      <td>...</td>\n",
       "      <td>...</td>\n",
       "      <td>...</td>\n",
       "      <td>...</td>\n",
       "      <td>...</td>\n",
       "      <td>...</td>\n",
       "    </tr>\n",
       "    <tr>\n",
       "      <th>331</th>\n",
       "      <td>香港欣欣宾馆(家庭旅馆)(YAN YAN GUEST HOUSE)</td>\n",
       "      <td>地铁周边</td>\n",
       "      <td>香港</td>\n",
       "      <td>油尖旺</td>\n",
       "      <td>弥敦道40号重庆大厦E座8字楼E1室</td>\n",
       "      <td>2.3</td>\n",
       "      <td>6</td>\n",
       "      <td>977</td>\n",
       "    </tr>\n",
       "    <tr>\n",
       "      <th>359</th>\n",
       "      <td>香港港龙酒店(Comfort Lodge Hong Kong)</td>\n",
       "      <td>地铁周边</td>\n",
       "      <td>香港</td>\n",
       "      <td>油尖旺</td>\n",
       "      <td>香港九龙佐敦德兴街7-8号（礼苑，接待处位于A座2楼）</td>\n",
       "      <td>2.2</td>\n",
       "      <td>18</td>\n",
       "      <td>492</td>\n",
       "    </tr>\n",
       "    <tr>\n",
       "      <th>279</th>\n",
       "      <td>香港经济型酒店  (家庭旅馆)(Hong Kong Budget Hostel)</td>\n",
       "      <td>地铁周边</td>\n",
       "      <td>香港</td>\n",
       "      <td>油尖旺</td>\n",
       "      <td>弥敦道36-44号重庆大厦10字楼D,E座D8&amp; E2室</td>\n",
       "      <td>2.0</td>\n",
       "      <td>29</td>\n",
       "      <td>67</td>\n",
       "    </tr>\n",
       "    <tr>\n",
       "      <th>281</th>\n",
       "      <td>巴黎旅馆(Paris Guest House (D2, 10/F))</td>\n",
       "      <td>其他类型</td>\n",
       "      <td>香港</td>\n",
       "      <td>其他地区</td>\n",
       "      <td>Flat D2, 10/F, Block D, Chungking Mansion, 40 ...</td>\n",
       "      <td>2.0</td>\n",
       "      <td>5</td>\n",
       "      <td>67</td>\n",
       "    </tr>\n",
       "    <tr>\n",
       "      <th>384</th>\n",
       "      <td>香港中 港酒店(家庭旅馆)(HK-China Hotel)</td>\n",
       "      <td>地铁周边</td>\n",
       "      <td>香港</td>\n",
       "      <td>油尖旺</td>\n",
       "      <td>碧街33-39号永华大厦1楼（油麻地地铁站A1出口直走50米）</td>\n",
       "      <td>1.5</td>\n",
       "      <td>7</td>\n",
       "      <td>429</td>\n",
       "    </tr>\n",
       "  </tbody>\n",
       "</table>\n",
       "<p>396 rows × 8 columns</p>\n",
       "</div>"
      ],
      "text/plain": [
       "                                           名字    类型  城市    地区  \\\n",
       "210          香港李女士宾馆(家庭旅馆)(MS LI GUEST HOUSE)  地铁周边  香港   油尖旺   \n",
       "332     香港新金冠宾馆(New Golden Crown Guest House)    客栈  香港   油尖旺   \n",
       "316     香港尊贵旅馆(Hong Kong Premium Guest House)  其他类型  香港   油尖旺   \n",
       "198                        香港鸣人宾馆(Naruto Inn)  地铁周边  香港   油尖旺   \n",
       "74             香港和平客栈(HK Peaceful Guesthouse)    民宿  香港  其他地区   \n",
       "..                                        ...   ...  ..   ...   \n",
       "331         香港欣欣宾馆(家庭旅馆)(YAN YAN GUEST HOUSE)  地铁周边  香港   油尖旺   \n",
       "359           香港港龙酒店(Comfort Lodge Hong Kong)  地铁周边  香港   油尖旺   \n",
       "279  香港经济型酒店  (家庭旅馆)(Hong Kong Budget Hostel)  地铁周边  香港   油尖旺   \n",
       "281        巴黎旅馆(Paris Guest House (D2, 10/F))  其他类型  香港  其他地区   \n",
       "384             香港中 港酒店(家庭旅馆)(HK-China Hotel)  地铁周边  香港   油尖旺   \n",
       "\n",
       "                                                    地点   评分  评分人数   价格  \n",
       "210                                弥敦道58号美丽都大厦E座5字楼E1室  4.9     7  351  \n",
       "332                                 尖沙咀弥敦道68号金冠大厦13楼C室  4.9    10  395  \n",
       "316       尖沙咀弥敦道56-58号美丽都大厦16字楼B2,A5室（前台入住办理设在16字楼A2室）  4.8    19  166  \n",
       "198                            尖沙咀弥敦道83-97号华源大厦10F B4室  4.8   921  190  \n",
       "74                     尖沙咀弥敦道58号美丽都大厦13楼B1室于13楼C2室登记入住  4.8   511  264  \n",
       "..                                                 ...  ...   ...  ...  \n",
       "331                                 弥敦道40号重庆大厦E座8字楼E1室  2.3     6  977  \n",
       "359                        香港九龙佐敦德兴街7-8号（礼苑，接待处位于A座2楼）  2.2    18  492  \n",
       "279                       弥敦道36-44号重庆大厦10字楼D,E座D8& E2室  2.0    29   67  \n",
       "281  Flat D2, 10/F, Block D, Chungking Mansion, 40 ...  2.0     5   67  \n",
       "384                    碧街33-39号永华大厦1楼（油麻地地铁站A1出口直走50米）  1.5     7  429  \n",
       "\n",
       "[396 rows x 8 columns]"
      ]
     },
     "execution_count": 22,
     "metadata": {},
     "output_type": "execute_result"
    }
   ],
   "source": [
    "df.sort_values(by = ['评分','价格'],ascending = (False,True))"
   ]
  },
  {
   "cell_type": "markdown",
   "metadata": {},
   "source": [
    "（7）计算一下，评分小于3分的酒店数量和占比。"
   ]
  },
  {
   "cell_type": "code",
   "execution_count": 25,
   "metadata": {
    "tags": []
   },
   "outputs": [
    {
     "data": {
      "text/plain": [
       "12"
      ]
     },
     "execution_count": 25,
     "metadata": {},
     "output_type": "execute_result"
    }
   ],
   "source": [
    "len(df[df.评分 < 3])"
   ]
  },
  {
   "cell_type": "code",
   "execution_count": 28,
   "metadata": {
    "tags": []
   },
   "outputs": [
    {
     "data": {
      "text/plain": [
       "0.030303030303030304"
      ]
     },
     "execution_count": 28,
     "metadata": {},
     "output_type": "execute_result"
    }
   ],
   "source": [
    "len(df[df.评分 < 3])/len(df)"
   ]
  },
  {
   "cell_type": "markdown",
   "metadata": {},
   "source": [
    "（8）计算一下，酒店评分大于等于4分的酒店的价格均值。"
   ]
  },
  {
   "cell_type": "code",
   "execution_count": 30,
   "metadata": {
    "tags": []
   },
   "outputs": [
    {
     "data": {
      "text/plain": [
       "743.165191740413"
      ]
     },
     "execution_count": 30,
     "metadata": {},
     "output_type": "execute_result"
    }
   ],
   "source": [
    "df[df.评分 >= 4]['价格'].mean()"
   ]
  },
  {
   "cell_type": "markdown",
   "metadata": {},
   "source": [
    "（9）计算出每个地区的酒店占总酒店数量的比例。"
   ]
  },
  {
   "cell_type": "code",
   "execution_count": 38,
   "metadata": {
    "tags": []
   },
   "outputs": [
    {
     "data": {
      "text/plain": [
       "油尖旺     0.467172\n",
       "其他地区    0.141414\n",
       "湾仔      0.103535\n",
       "中西区     0.083333\n",
       "九龙城     0.053030\n",
       "东区      0.040404\n",
       "离岛      0.027778\n",
       "观塘      0.017677\n",
       "荃湾      0.017677\n",
       "南区      0.012626\n",
       "葵青      0.012626\n",
       "沙田      0.010101\n",
       "屯门      0.005051\n",
       "元朗      0.002525\n",
       "深水埗区    0.002525\n",
       "罗湖区     0.002525\n",
       "Name: 地区, dtype: float64"
      ]
     },
     "execution_count": 38,
     "metadata": {},
     "output_type": "execute_result"
    }
   ],
   "source": [
    "df.地区.value_counts()/len(df)"
   ]
  },
  {
   "cell_type": "markdown",
   "metadata": {},
   "source": [
    "（10）找出酒店评分人数排名前20的酒店，并计算他们的价格均值。"
   ]
  },
  {
   "cell_type": "code",
   "execution_count": 36,
   "metadata": {
    "tags": []
   },
   "outputs": [
    {
     "data": {
      "text/plain": [
       "1111.8"
      ]
     },
     "execution_count": 36,
     "metadata": {},
     "output_type": "execute_result"
    }
   ],
   "source": [
    "df.sort_values(by = '评分人数',ascending = False)[:20]['价格'].mean()"
   ]
  },
  {
   "cell_type": "markdown",
   "metadata": {},
   "source": [
    "（11）查看酒店分布的类型数量和地区数量，并统计各个类型和地区包含的酒店数量。"
   ]
  },
  {
   "cell_type": "code",
   "execution_count": 40,
   "metadata": {
    "tags": []
   },
   "outputs": [
    {
     "data": {
      "text/plain": [
       "18"
      ]
     },
     "execution_count": 40,
     "metadata": {},
     "output_type": "execute_result"
    }
   ],
   "source": [
    "len(df.类型.unique())"
   ]
  },
  {
   "cell_type": "code",
   "execution_count": 41,
   "metadata": {
    "tags": []
   },
   "outputs": [
    {
     "data": {
      "text/plain": [
       "16"
      ]
     },
     "execution_count": 41,
     "metadata": {},
     "output_type": "execute_result"
    }
   ],
   "source": [
    "len(df.地区.unique())"
   ]
  },
  {
   "cell_type": "code",
   "execution_count": 42,
   "metadata": {
    "tags": []
   },
   "outputs": [
    {
     "data": {
      "text/plain": [
       "地铁周边     172\n",
       "浪漫情侣      68\n",
       "海滨风光      61\n",
       "休闲度假      30\n",
       "其他类型      20\n",
       "商务出行      13\n",
       "民宿         6\n",
       "亲子酒店       5\n",
       "酒店公寓       5\n",
       "青年旅舍       4\n",
       "客栈         3\n",
       "环境不错       3\n",
       "老板热情       1\n",
       "干净卫生       1\n",
       "印象好        1\n",
       "火车站周边      1\n",
       "交通方便       1\n",
       "大学周边       1\n",
       "Name: 类型, dtype: int64"
      ]
     },
     "execution_count": 42,
     "metadata": {},
     "output_type": "execute_result"
    }
   ],
   "source": [
    "df.类型.value_counts()"
   ]
  },
  {
   "cell_type": "markdown",
   "metadata": {},
   "source": [
    "（12）用数据透视表，计算每个类型的酒店的评分人数总数量。"
   ]
  },
  {
   "cell_type": "code",
   "execution_count": 44,
   "metadata": {
    "tags": []
   },
   "outputs": [
    {
     "data": {
      "text/html": [
       "<div>\n",
       "<style scoped>\n",
       "    .dataframe tbody tr th:only-of-type {\n",
       "        vertical-align: middle;\n",
       "    }\n",
       "\n",
       "    .dataframe tbody tr th {\n",
       "        vertical-align: top;\n",
       "    }\n",
       "\n",
       "    .dataframe thead th {\n",
       "        text-align: right;\n",
       "    }\n",
       "</style>\n",
       "<table border=\"1\" class=\"dataframe\">\n",
       "  <thead>\n",
       "    <tr style=\"text-align: right;\">\n",
       "      <th></th>\n",
       "      <th>评分人数</th>\n",
       "    </tr>\n",
       "    <tr>\n",
       "      <th>类型</th>\n",
       "      <th></th>\n",
       "    </tr>\n",
       "  </thead>\n",
       "  <tbody>\n",
       "    <tr>\n",
       "      <th>交通方便</th>\n",
       "      <td>152</td>\n",
       "    </tr>\n",
       "    <tr>\n",
       "      <th>亲子酒店</th>\n",
       "      <td>11492</td>\n",
       "    </tr>\n",
       "    <tr>\n",
       "      <th>休闲度假</th>\n",
       "      <td>219657</td>\n",
       "    </tr>\n",
       "    <tr>\n",
       "      <th>其他类型</th>\n",
       "      <td>4858</td>\n",
       "    </tr>\n",
       "    <tr>\n",
       "      <th>印象好</th>\n",
       "      <td>68</td>\n",
       "    </tr>\n",
       "    <tr>\n",
       "      <th>商务出行</th>\n",
       "      <td>9630</td>\n",
       "    </tr>\n",
       "    <tr>\n",
       "      <th>地铁周边</th>\n",
       "      <td>91323</td>\n",
       "    </tr>\n",
       "    <tr>\n",
       "      <th>大学周边</th>\n",
       "      <td>23</td>\n",
       "    </tr>\n",
       "    <tr>\n",
       "      <th>客栈</th>\n",
       "      <td>229</td>\n",
       "    </tr>\n",
       "    <tr>\n",
       "      <th>干净卫生</th>\n",
       "      <td>146</td>\n",
       "    </tr>\n",
       "    <tr>\n",
       "      <th>民宿</th>\n",
       "      <td>2493</td>\n",
       "    </tr>\n",
       "    <tr>\n",
       "      <th>浪漫情侣</th>\n",
       "      <td>238436</td>\n",
       "    </tr>\n",
       "    <tr>\n",
       "      <th>海滨风光</th>\n",
       "      <td>394600</td>\n",
       "    </tr>\n",
       "    <tr>\n",
       "      <th>火车站周边</th>\n",
       "      <td>578</td>\n",
       "    </tr>\n",
       "    <tr>\n",
       "      <th>环境不错</th>\n",
       "      <td>1327</td>\n",
       "    </tr>\n",
       "    <tr>\n",
       "      <th>老板热情</th>\n",
       "      <td>48</td>\n",
       "    </tr>\n",
       "    <tr>\n",
       "      <th>酒店公寓</th>\n",
       "      <td>1967</td>\n",
       "    </tr>\n",
       "    <tr>\n",
       "      <th>青年旅舍</th>\n",
       "      <td>2605</td>\n",
       "    </tr>\n",
       "  </tbody>\n",
       "</table>\n",
       "</div>"
      ],
      "text/plain": [
       "         评分人数\n",
       "类型           \n",
       "交通方便      152\n",
       "亲子酒店    11492\n",
       "休闲度假   219657\n",
       "其他类型     4858\n",
       "印象好        68\n",
       "商务出行     9630\n",
       "地铁周边    91323\n",
       "大学周边       23\n",
       "客栈        229\n",
       "干净卫生      146\n",
       "民宿       2493\n",
       "浪漫情侣   238436\n",
       "海滨风光   394600\n",
       "火车站周边     578\n",
       "环境不错     1327\n",
       "老板热情       48\n",
       "酒店公寓     1967\n",
       "青年旅舍     2605"
      ]
     },
     "execution_count": 44,
     "metadata": {},
     "output_type": "execute_result"
    }
   ],
   "source": [
    "pd.pivot_table(df,index = '类型',values = '评分人数',aggfunc = np.sum)"
   ]
  },
  {
   "cell_type": "markdown",
   "metadata": {},
   "source": [
    "（13）用数据透视表，计算每个类型的酒店价格的均值和标准差"
   ]
  },
  {
   "cell_type": "code",
   "execution_count": 47,
   "metadata": {
    "tags": []
   },
   "outputs": [
    {
     "data": {
      "text/html": [
       "<div>\n",
       "<style scoped>\n",
       "    .dataframe tbody tr th:only-of-type {\n",
       "        vertical-align: middle;\n",
       "    }\n",
       "\n",
       "    .dataframe tbody tr th {\n",
       "        vertical-align: top;\n",
       "    }\n",
       "\n",
       "    .dataframe thead tr th {\n",
       "        text-align: left;\n",
       "    }\n",
       "\n",
       "    .dataframe thead tr:last-of-type th {\n",
       "        text-align: right;\n",
       "    }\n",
       "</style>\n",
       "<table border=\"1\" class=\"dataframe\">\n",
       "  <thead>\n",
       "    <tr>\n",
       "      <th></th>\n",
       "      <th>mean</th>\n",
       "      <th>std</th>\n",
       "    </tr>\n",
       "    <tr>\n",
       "      <th></th>\n",
       "      <th>价格</th>\n",
       "      <th>价格</th>\n",
       "    </tr>\n",
       "    <tr>\n",
       "      <th>类型</th>\n",
       "      <th></th>\n",
       "      <th></th>\n",
       "    </tr>\n",
       "  </thead>\n",
       "  <tbody>\n",
       "    <tr>\n",
       "      <th>交通方便</th>\n",
       "      <td>421.000000</td>\n",
       "      <td>NaN</td>\n",
       "    </tr>\n",
       "    <tr>\n",
       "      <th>亲子酒店</th>\n",
       "      <td>745.400000</td>\n",
       "      <td>546.616227</td>\n",
       "    </tr>\n",
       "    <tr>\n",
       "      <th>休闲度假</th>\n",
       "      <td>1151.300000</td>\n",
       "      <td>831.027704</td>\n",
       "    </tr>\n",
       "    <tr>\n",
       "      <th>其他类型</th>\n",
       "      <td>269.300000</td>\n",
       "      <td>199.264727</td>\n",
       "    </tr>\n",
       "    <tr>\n",
       "      <th>印象好</th>\n",
       "      <td>297.000000</td>\n",
       "      <td>NaN</td>\n",
       "    </tr>\n",
       "    <tr>\n",
       "      <th>商务出行</th>\n",
       "      <td>1045.153846</td>\n",
       "      <td>870.595663</td>\n",
       "    </tr>\n",
       "    <tr>\n",
       "      <th>地铁周边</th>\n",
       "      <td>374.139535</td>\n",
       "      <td>377.604830</td>\n",
       "    </tr>\n",
       "    <tr>\n",
       "      <th>大学周边</th>\n",
       "      <td>325.000000</td>\n",
       "      <td>NaN</td>\n",
       "    </tr>\n",
       "    <tr>\n",
       "      <th>客栈</th>\n",
       "      <td>397.666667</td>\n",
       "      <td>154.017315</td>\n",
       "    </tr>\n",
       "    <tr>\n",
       "      <th>干净卫生</th>\n",
       "      <td>185.000000</td>\n",
       "      <td>NaN</td>\n",
       "    </tr>\n",
       "    <tr>\n",
       "      <th>民宿</th>\n",
       "      <td>258.500000</td>\n",
       "      <td>127.000394</td>\n",
       "    </tr>\n",
       "    <tr>\n",
       "      <th>浪漫情侣</th>\n",
       "      <td>608.573529</td>\n",
       "      <td>303.356119</td>\n",
       "    </tr>\n",
       "    <tr>\n",
       "      <th>海滨风光</th>\n",
       "      <td>1543.573770</td>\n",
       "      <td>1746.828349</td>\n",
       "    </tr>\n",
       "    <tr>\n",
       "      <th>火车站周边</th>\n",
       "      <td>968.000000</td>\n",
       "      <td>NaN</td>\n",
       "    </tr>\n",
       "    <tr>\n",
       "      <th>环境不错</th>\n",
       "      <td>357.666667</td>\n",
       "      <td>161.283394</td>\n",
       "    </tr>\n",
       "    <tr>\n",
       "      <th>老板热情</th>\n",
       "      <td>385.000000</td>\n",
       "      <td>NaN</td>\n",
       "    </tr>\n",
       "    <tr>\n",
       "      <th>酒店公寓</th>\n",
       "      <td>1182.000000</td>\n",
       "      <td>697.624899</td>\n",
       "    </tr>\n",
       "    <tr>\n",
       "      <th>青年旅舍</th>\n",
       "      <td>189.250000</td>\n",
       "      <td>116.851401</td>\n",
       "    </tr>\n",
       "  </tbody>\n",
       "</table>\n",
       "</div>"
      ],
      "text/plain": [
       "              mean          std\n",
       "                价格           价格\n",
       "类型                             \n",
       "交通方便    421.000000          NaN\n",
       "亲子酒店    745.400000   546.616227\n",
       "休闲度假   1151.300000   831.027704\n",
       "其他类型    269.300000   199.264727\n",
       "印象好     297.000000          NaN\n",
       "商务出行   1045.153846   870.595663\n",
       "地铁周边    374.139535   377.604830\n",
       "大学周边    325.000000          NaN\n",
       "客栈      397.666667   154.017315\n",
       "干净卫生    185.000000          NaN\n",
       "民宿      258.500000   127.000394\n",
       "浪漫情侣    608.573529   303.356119\n",
       "海滨风光   1543.573770  1746.828349\n",
       "火车站周边   968.000000          NaN\n",
       "环境不错    357.666667   161.283394\n",
       "老板热情    385.000000          NaN\n",
       "酒店公寓   1182.000000   697.624899\n",
       "青年旅舍    189.250000   116.851401"
      ]
     },
     "execution_count": 47,
     "metadata": {},
     "output_type": "execute_result"
    }
   ],
   "source": [
    "pd.pivot_table(df,index = '类型',values = ['价格'],aggfunc = [np.mean,np.std]) #一个数据是没有办法计算方差的"
   ]
  },
  {
   "cell_type": "markdown",
   "metadata": {},
   "source": [
    "（14）用数据透视表，计算每个地区酒店价格和评分的最大值和最小值"
   ]
  },
  {
   "cell_type": "markdown",
   "metadata": {},
   "source": [
    "（15）用数据透视表，计算每个地区和类型的酒店的评分的均值和标准差"
   ]
  }
 ],
 "metadata": {
  "kernelspec": {
   "display_name": "Python 3 (ipykernel)",
   "language": "python",
   "name": "python3"
  },
  "language_info": {
   "codemirror_mode": {
    "name": "ipython",
    "version": 3
   },
   "file_extension": ".py",
   "mimetype": "text/x-python",
   "name": "python",
   "nbconvert_exporter": "python",
   "pygments_lexer": "ipython3",
   "version": "3.11.4"
  }
 },
 "nbformat": 4,
 "nbformat_minor": 4
}
